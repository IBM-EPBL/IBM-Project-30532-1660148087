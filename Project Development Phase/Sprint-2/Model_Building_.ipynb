{
  "nbformat": 4,
  "nbformat_minor": 0,
  "metadata": {
    "colab": {
      "provenance": []
    },
    "kernelspec": {
      "name": "python3",
      "display_name": "Python 3"
    },
    "language_info": {
      "name": "python"
    }
  },
  "cells": [
    {
      "cell_type": "markdown",
      "source": [
        "# **Importing Keras libraries**"
      ],
      "metadata": {
        "id": "Sy8IXKBAEHd2"
      }
    },
    {
      "cell_type": "code",
      "execution_count": 1,
      "metadata": {
        "id": "nJqYmRLNc1ux"
      },
      "outputs": [],
      "source": [
        "import tensorflow as tf\n",
        "import numpy as np\n",
        "from tensorflow import keras\n",
        "import os\n",
        "import cv2\n",
        "from tensorflow.keras.preprocessing.image import ImageDataGenerator\n",
        "from tensorflow.keras.preprocessing import image\n",
        "import matplotlib.pyplot as plt"
      ]
    },
    {
      "cell_type": "code",
      "source": [
        "from google.colab import drive\n",
        "drive.mount('/content/drive')"
      ],
      "metadata": {
        "colab": {
          "base_uri": "https://localhost:8080/"
        },
        "id": "7M_-GWy3DT-g",
        "outputId": "dc1f712f-afb0-4d35-c2ba-75f8489eaa19"
      },
      "execution_count": 2,
      "outputs": [
        {
          "output_type": "stream",
          "name": "stdout",
          "text": [
            "Mounted at /content/drive\n"
          ]
        }
      ]
    },
    {
      "cell_type": "markdown",
      "source": [
        "# **Making Separate Dataset for Training and Testing**"
      ],
      "metadata": {
        "id": "oHA5mZZqc9Q1"
      }
    },
    {
      "cell_type": "code",
      "source": [
        "train = ImageDataGenerator(rescale=1/255)\n",
        "test = ImageDataGenerator(rescale=1/255)\n",
        "\n",
        "train_dataset = train.flow_from_directory(\"/content/drive/MyDrive/archive/Dataset/Dataset/train_set\",\n",
        "                                          target_size=(150,150),\n",
        "                                          batch_size = 32,\n",
        "                                          class_mode = 'binary')\n",
        "\n",
        "test_dataset = test.flow_from_directory(\"/content/drive/MyDrive/archive/Dataset/Dataset/test_set\",\n",
        "                                          target_size=(150,150),\n",
        "                                          batch_size =32,\n",
        "                                          class_mode = 'binary')"
      ],
      "metadata": {
        "colab": {
          "base_uri": "https://localhost:8080/"
        },
        "id": "aN8X0oyoc9-1",
        "outputId": "f92af112-3b25-42b1-a523-9940f5eba675"
      },
      "execution_count": 3,
      "outputs": [
        {
          "output_type": "stream",
          "name": "stdout",
          "text": [
            "Found 436 images belonging to 2 classes.\n",
            "Found 121 images belonging to 2 classes.\n"
          ]
        }
      ]
    },
    {
      "cell_type": "code",
      "source": [
        "test_dataset.class_indices"
      ],
      "metadata": {
        "colab": {
          "base_uri": "https://localhost:8080/"
        },
        "id": "iQr86pDodE4x",
        "outputId": "cb330be5-7e5d-4914-801e-c19c6b48200f"
      },
      "execution_count": 4,
      "outputs": [
        {
          "output_type": "execute_result",
          "data": {
            "text/plain": [
              "{'forest': 0, 'with fire': 1}"
            ]
          },
          "metadata": {},
          "execution_count": 4
        }
      ]
    },
    {
      "cell_type": "markdown",
      "source": [
        "# **Define the Parameters**"
      ],
      "metadata": {
        "id": "XvBGvjT4K7sQ"
      }
    },
    {
      "cell_type": "code",
      "source": [
        "train_datagen=ImageDataGenerator(rescale=1./255,shear_range=0.2,rotation_range=180,zoom_range=0.2,horizontal_flip=True)\n",
        "test_datagen=ImageDataGenerator(rescale=1./255)"
      ],
      "metadata": {
        "id": "ANyCEWC0Ku4I"
      },
      "execution_count": 5,
      "outputs": []
    },
    {
      "cell_type": "markdown",
      "source": [
        "# **Model Building**"
      ],
      "metadata": {
        "id": "QU4vUKpGeELA"
      }
    },
    {
      "cell_type": "code",
      "source": [
        "model = keras.Sequential()\n",
        "model.add(keras.layers.Conv2D(32,(3,3),activation='relu',input_shape=(150,150,3)))\n",
        "model.add(keras.layers.MaxPool2D(2,2))\n",
        "model.add(keras.layers.Conv2D(64,(3,3),activation='relu'))\n",
        "model.add(keras.layers.MaxPool2D(2,2))\n",
        "model.add(keras.layers.Conv2D(128,(3,3),activation='relu'))\n",
        "model.add(keras.layers.MaxPool2D(2,2))\n",
        "model.add(keras.layers.Conv2D(128,(3,3),activation='relu'))\n",
        "model.add(keras.layers.MaxPool2D(2,2))\n",
        "model.add(keras.layers.Flatten())\n",
        "model.add(keras.layers.Dense(512,activation='relu'))\n",
        "model.add(keras.layers.Dense(1,activation='sigmoid'))"
      ],
      "metadata": {
        "id": "wgJtoqwAelRq"
      },
      "execution_count": null,
      "outputs": []
    },
    {
      "cell_type": "markdown",
      "source": [
        "# **Compiling the model**"
      ],
      "metadata": {
        "id": "qieDAgutesLl"
      }
    },
    {
      "cell_type": "code",
      "source": [
        "model.compile(optimizer='adam',loss='binary_crossentropy',metrics=['accuracy'])"
      ],
      "metadata": {
        "id": "tpp6ht5CetBg"
      },
      "execution_count": null,
      "outputs": []
    },
    {
      "cell_type": "markdown",
      "source": [
        "# **Fitting the Model**"
      ],
      "metadata": {
        "id": "QAjsOYYOhxzI"
      }
    },
    {
      "cell_type": "code",
      "source": [
        "r = model.fit(train_dataset,\n",
        "         epochs = 10,\n",
        "         validation_data = test_dataset)"
      ],
      "metadata": {
        "colab": {
          "base_uri": "https://localhost:8080/"
        },
        "id": "2RQ4-fbyeyMx",
        "outputId": "74e38431-f9a0-4180-dfea-1abeb240bae6"
      },
      "execution_count": null,
      "outputs": [
        {
          "output_type": "stream",
          "name": "stdout",
          "text": [
            "Epoch 1/10\n",
            "14/14 [==============================] - 92s 6s/step - loss: 0.5575 - accuracy: 0.6927 - val_loss: 0.1431 - val_accuracy: 0.9669\n",
            "Epoch 2/10\n",
            "14/14 [==============================] - 42s 3s/step - loss: 0.2447 - accuracy: 0.9014 - val_loss: 0.0662 - val_accuracy: 0.9917\n",
            "Epoch 3/10\n",
            "14/14 [==============================] - 40s 3s/step - loss: 0.2388 - accuracy: 0.9037 - val_loss: 0.1973 - val_accuracy: 0.9256\n",
            "Epoch 4/10\n",
            "14/14 [==============================] - 40s 3s/step - loss: 0.3580 - accuracy: 0.8739 - val_loss: 0.0724 - val_accuracy: 0.9917\n",
            "Epoch 5/10\n",
            "14/14 [==============================] - 44s 3s/step - loss: 0.2030 - accuracy: 0.9128 - val_loss: 0.0431 - val_accuracy: 0.9835\n",
            "Epoch 6/10\n",
            "14/14 [==============================] - 42s 3s/step - loss: 0.1660 - accuracy: 0.9381 - val_loss: 0.0433 - val_accuracy: 1.0000\n",
            "Epoch 7/10\n",
            "14/14 [==============================] - 39s 3s/step - loss: 0.1374 - accuracy: 0.9472 - val_loss: 0.0425 - val_accuracy: 0.9917\n",
            "Epoch 8/10\n",
            "14/14 [==============================] - 42s 3s/step - loss: 0.1338 - accuracy: 0.9495 - val_loss: 0.0318 - val_accuracy: 1.0000\n",
            "Epoch 9/10\n",
            "14/14 [==============================] - 41s 3s/step - loss: 0.1244 - accuracy: 0.9495 - val_loss: 0.0327 - val_accuracy: 0.9917\n",
            "Epoch 10/10\n",
            "14/14 [==============================] - 40s 3s/step - loss: 0.1542 - accuracy: 0.9427 - val_loss: 0.0578 - val_accuracy: 0.9835\n"
          ]
        }
      ]
    }
  ]
}