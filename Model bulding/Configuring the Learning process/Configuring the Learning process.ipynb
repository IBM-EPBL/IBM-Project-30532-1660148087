{
  "nbformat": 4,
  "nbformat_minor": 0,
  "metadata": {
    "colab": {
      "provenance": []
    },
    "kernelspec": {
      "name": "python3",
      "display_name": "Python 3"
    },
    "language_info": {
      "name": "python"
    }
  },
  "cells": [
    {
      "cell_type": "markdown",
      "source": [
        "# **Importing Keras libraries**"
      ],
      "metadata": {
        "id": "5UKKDaCfUNCG"
      }
    },
    {
      "cell_type": "code",
      "source": [
        "import keras"
      ],
      "metadata": {
        "id": "ipCWLeFzUXGa"
      },
      "execution_count": 1,
      "outputs": []
    },
    {
      "cell_type": "markdown",
      "source": [
        "# **Importing ImageDataGenerator from Keras**"
      ],
      "metadata": {
        "id": "RNeZ0vrEUc55"
      }
    },
    {
      "cell_type": "code",
      "source": [
        "from matplotlib import pyplot as plt\n",
        "from keras.preprocessing.image import ImageDataGenerator"
      ],
      "metadata": {
        "id": "Mx2JxqSDUnPk"
      },
      "execution_count": 2,
      "outputs": []
    },
    {
      "cell_type": "markdown",
      "source": [
        "# **Defining the Parameters**"
      ],
      "metadata": {
        "id": "p7bB9Cd1b8kG"
      }
    },
    {
      "cell_type": "code",
      "source": [
        "train_datagen=ImageDataGenerator(rescale=1./255,shear_range=0.2,rotation_range=180,zoom_range=0.2,horizontal_flip=True)\n",
        "test_datagen=ImageDataGenerator(rescale=1./255)\n"
      ],
      "metadata": {
        "id": "A1iR_1R-cKY4"
      },
      "execution_count": 3,
      "outputs": []
    },
    {
      "cell_type": "markdown",
      "source": [
        "# **Applying ImageDataGenerator functionality to train dataset**"
      ],
      "metadata": {
        "id": "pbYsUSI9rrd9"
      }
    },
    {
      "cell_type": "code",
      "source": [
        "from google.colab import drive\n",
        "drive.mount('/content/drive')"
      ],
      "metadata": {
        "colab": {
          "base_uri": "https://localhost:8080/"
        },
        "id": "jkgacY2Su-U1",
        "outputId": "ccbe8d50-612d-4af8-ae43-a65c6a5e2798"
      },
      "execution_count": 4,
      "outputs": [
        {
          "output_type": "stream",
          "name": "stdout",
          "text": [
            "Mounted at /content/drive\n"
          ]
        }
      ]
    },
    {
      "cell_type": "code",
      "source": [
        "x_train=train_datagen.flow_from_directory('/content/drive/MyDrive/archive/Dataset/Dataset/train_set',target_size=(128,128),batch_size=32,class_mode='binary')\n"
      ],
      "metadata": {
        "colab": {
          "base_uri": "https://localhost:8080/"
        },
        "id": "3ou6I0e9sR7o",
        "outputId": "206a630d-0573-47f6-ca83-f1ca3556ca17"
      },
      "execution_count": 5,
      "outputs": [
        {
          "output_type": "stream",
          "name": "stdout",
          "text": [
            "Found 436 images belonging to 2 classes.\n"
          ]
        }
      ]
    },
    {
      "cell_type": "markdown",
      "source": [
        "# **Applying ImageDataGenerator functionality to test dataset**"
      ],
      "metadata": {
        "id": "943_QP5BtsLF"
      }
    },
    {
      "cell_type": "code",
      "source": [
        "x_test=test_datagen.flow_from_directory('/content/drive/MyDrive/archive/Dataset/Dataset/test_set',target_size=(128,128),batch_size=32,class_mode='binary')\n"
      ],
      "metadata": {
        "colab": {
          "base_uri": "https://localhost:8080/"
        },
        "id": "vIgeaeLht0Sn",
        "outputId": "00edb837-64d5-44c6-84f7-fff92f4a7b7e"
      },
      "execution_count": 6,
      "outputs": [
        {
          "output_type": "stream",
          "name": "stdout",
          "text": [
            "Found 121 images belonging to 2 classes.\n"
          ]
        }
      ]
    },
    {
      "cell_type": "markdown",
      "source": [
        "# **Importing Model Building Libraries**"
      ],
      "metadata": {
        "id": "ARyKyJLrVbK5"
      }
    },
    {
      "cell_type": "code",
      "source": [
        "#to define the linear Initialisation import sequential\n",
        "from keras.models import Sequential\n",
        "#to add layers import Dense\n",
        "from keras.layers import Dense\n",
        "#to create Convolutional kernel import convolution2D\n",
        "from keras.layers import Convolution2D\n",
        "#import Maxpooling layer \n",
        "from keras.layers import MaxPooling2D\n",
        "#import flatten layer\n",
        "from keras.layers import Flatten\n",
        "import warnings\n",
        "warnings.filterwarnings('ignore')"
      ],
      "metadata": {
        "id": "0sMPVWxFVg5P"
      },
      "execution_count": 7,
      "outputs": []
    },
    {
      "cell_type": "markdown",
      "source": [
        "# **Initializing the model**"
      ],
      "metadata": {
        "id": "_LVXcOT9eLM3"
      }
    },
    {
      "cell_type": "code",
      "source": [
        "model=Sequential()"
      ],
      "metadata": {
        "id": "TquY2jOfeRQF"
      },
      "execution_count": 8,
      "outputs": []
    },
    {
      "cell_type": "markdown",
      "source": [
        "# **Adding CNN Layers**"
      ],
      "metadata": {
        "id": "CqOjIFO2eaKf"
      }
    },
    {
      "cell_type": "code",
      "source": [
        "model.add(Convolution2D(32,(3,3),input_shape=(128,128,3),activation='relu'))\n",
        "#add maxpooling layers\n",
        "model.add(MaxPooling2D(pool_size=(2,2)))\n",
        "#add faltten layer\n",
        "model.add(Flatten())"
      ],
      "metadata": {
        "id": "myoMJiBxeh3q"
      },
      "execution_count": 9,
      "outputs": []
    },
    {
      "cell_type": "markdown",
      "source": [
        "# **Add Dense layers**"
      ],
      "metadata": {
        "id": "x67h-tMPfpHG"
      }
    },
    {
      "cell_type": "code",
      "source": [
        "#add hidden layers\n",
        "model.add(Dense(150,activation='relu'))\n",
        "#add output layer\n",
        "model.add(Dense(1,activation='sigmoid'))"
      ],
      "metadata": {
        "id": "JodC_f4Vfsn3"
      },
      "execution_count": 10,
      "outputs": []
    },
    {
      "cell_type": "markdown",
      "source": [
        "# **configuring the learning process**"
      ],
      "metadata": {
        "id": "ELm-4mBdgfOv"
      }
    },
    {
      "cell_type": "code",
      "source": [
        "model.compile(loss='binary_crossentropy',optimizer=\"adam\",metrics=[\"accuracy\"])"
      ],
      "metadata": {
        "id": "evmGQQWXgo1t"
      },
      "execution_count": 11,
      "outputs": []
    },
    {
      "cell_type": "markdown",
      "source": [
        "# **Training the model**"
      ],
      "metadata": {
        "id": "80s2C38ThYaj"
      }
    },
    {
      "cell_type": "code",
      "source": [
        "model.fit_generator(x_train,steps_per_epoch=14,epochs=10,validation_data=x_test,validation_steps=4)"
      ],
      "metadata": {
        "colab": {
          "base_uri": "https://localhost:8080/"
        },
        "id": "3Cy0ktrJhcfT",
        "outputId": "7d86e4c8-cc16-412c-e28e-8c84aa9c8770"
      },
      "execution_count": 12,
      "outputs": [
        {
          "output_type": "stream",
          "name": "stdout",
          "text": [
            "Epoch 1/10\n",
            "14/14 [==============================] - 72s 5s/step - loss: 3.8471 - accuracy: 0.5573 - val_loss: 0.7519 - val_accuracy: 0.8017\n",
            "Epoch 2/10\n",
            "14/14 [==============================] - 28s 2s/step - loss: 0.6278 - accuracy: 0.7133 - val_loss: 0.2484 - val_accuracy: 0.8678\n",
            "Epoch 3/10\n",
            "14/14 [==============================] - 33s 2s/step - loss: 0.3878 - accuracy: 0.7982 - val_loss: 0.2133 - val_accuracy: 0.8760\n",
            "Epoch 4/10\n",
            "14/14 [==============================] - 29s 2s/step - loss: 0.2860 - accuracy: 0.8509 - val_loss: 0.1244 - val_accuracy: 0.9504\n",
            "Epoch 5/10\n",
            "14/14 [==============================] - 27s 2s/step - loss: 0.2183 - accuracy: 0.8922 - val_loss: 0.1643 - val_accuracy: 0.9339\n",
            "Epoch 6/10\n",
            "14/14 [==============================] - 26s 2s/step - loss: 0.1971 - accuracy: 0.9106 - val_loss: 0.0882 - val_accuracy: 0.9752\n",
            "Epoch 7/10\n",
            "14/14 [==============================] - 27s 2s/step - loss: 0.2022 - accuracy: 0.9014 - val_loss: 0.0888 - val_accuracy: 0.9752\n",
            "Epoch 8/10\n",
            "14/14 [==============================] - 26s 2s/step - loss: 0.1710 - accuracy: 0.9381 - val_loss: 0.0860 - val_accuracy: 0.9752\n",
            "Epoch 9/10\n",
            "14/14 [==============================] - 25s 2s/step - loss: 0.1749 - accuracy: 0.9381 - val_loss: 0.0969 - val_accuracy: 0.9669\n",
            "Epoch 10/10\n",
            "14/14 [==============================] - 28s 2s/step - loss: 0.1613 - accuracy: 0.9266 - val_loss: 0.0647 - val_accuracy: 0.9752\n"
          ]
        },
        {
          "output_type": "execute_result",
          "data": {
            "text/plain": [
              "<keras.callbacks.History at 0x7f94d3912610>"
            ]
          },
          "metadata": {},
          "execution_count": 12
        }
      ]
    },
    {
      "cell_type": "markdown",
      "source": [
        "# **Save the model**"
      ],
      "metadata": {
        "id": "CSmW5ypkizjF"
      }
    },
    {
      "cell_type": "code",
      "source": [
        "model.save(\"forest.h5\")"
      ],
      "metadata": {
        "id": "Q2DVxGYgi36I"
      },
      "execution_count": 13,
      "outputs": []
    },
    {
      "cell_type": "markdown",
      "source": [
        "# **Predictions**"
      ],
      "metadata": {
        "id": "G8KMppTojF__"
      }
    },
    {
      "cell_type": "code",
      "source": [
        "#import load model from keras.model\n",
        "from keras.models import load_model\n",
        "#import image from keras\n",
        "from tensorflow.keras.preprocessing import image\n",
        "import numpy as np\n",
        "#import cv2\n",
        "import cv2\n",
        "#load the saved model\n",
        "model=load_model('forest.h5')\n",
        "img=image.load_img('/content/drive/MyDrive/archive/Dataset/Dataset/test_set/forest/0.72918000_1559733279_forests1_gettyimages_.jpg')\n",
        "x=image.img_to_array(img)\n",
        "res=cv2.resize(x,dsize=(128,128),interpolation=cv2.INTER_CUBIC)\n",
        "#expand the image shape\n",
        "x=np.expand_dims(res,axis=0)\n",
        "\n",
        "\n"
      ],
      "metadata": {
        "id": "aZxNjrmJjImS"
      },
      "execution_count": 15,
      "outputs": []
    },
    {
      "cell_type": "code",
      "source": [
        "pred=model.predict(x)"
      ],
      "metadata": {
        "colab": {
          "base_uri": "https://localhost:8080/"
        },
        "id": "A3CYH-vNmkX0",
        "outputId": "ec47c3b4-af17-4fb5-e08a-2f64c6db652e"
      },
      "execution_count": 16,
      "outputs": [
        {
          "output_type": "stream",
          "name": "stdout",
          "text": [
            "1/1 [==============================] - 0s 123ms/step\n"
          ]
        }
      ]
    },
    {
      "cell_type": "code",
      "source": [
        "pred"
      ],
      "metadata": {
        "colab": {
          "base_uri": "https://localhost:8080/"
        },
        "id": "eQkolLKImlSq",
        "outputId": "985b2dac-4547-4f58-94cc-fd44f89e7348"
      },
      "execution_count": 17,
      "outputs": [
        {
          "output_type": "execute_result",
          "data": {
            "text/plain": [
              "array([[0.]], dtype=float32)"
            ]
          },
          "metadata": {},
          "execution_count": 17
        }
      ]
    }
  ]
}